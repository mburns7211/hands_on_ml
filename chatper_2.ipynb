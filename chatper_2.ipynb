{
 "cells": [
  {
   "cell_type": "markdown",
   "id": "106f9aba-6946-4540-9d0d-9a0760c56707",
   "metadata": {},
   "source": [
    "# Predicting Hosing Prices with Housing Data"
   ]
  },
  {
   "cell_type": "markdown",
   "id": "85c737eb-1f30-4e88-9a94-c440b28aa4b6",
   "metadata": {},
   "source": [
    "## Frame the problem\n",
    "* **What is the business objective?** - Determine hosuing price to use in another model to determine where to invest\n",
    "* **What does the current solution look like?** - Experts manually get the data and use complex rules to estimate median price\n",
    "* "
   ]
  },
  {
   "cell_type": "code",
   "execution_count": null,
   "id": "e059ed29-3c8d-4c61-926e-907be2aa31e2",
   "metadata": {},
   "outputs": [],
   "source": []
  }
 ],
 "metadata": {
  "kernelspec": {
   "display_name": "Python 3 (ipykernel)",
   "language": "python",
   "name": "python3"
  },
  "language_info": {
   "codemirror_mode": {
    "name": "ipython",
    "version": 3
   },
   "file_extension": ".py",
   "mimetype": "text/x-python",
   "name": "python",
   "nbconvert_exporter": "python",
   "pygments_lexer": "ipython3",
   "version": "3.11.11"
  }
 },
 "nbformat": 4,
 "nbformat_minor": 5
}
